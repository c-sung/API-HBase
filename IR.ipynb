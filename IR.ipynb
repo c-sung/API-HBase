{
  "nbformat": 4,
  "nbformat_minor": 0,
  "metadata": {
    "colab": {
      "name": "IR.ipynb",
      "provenance": [],
      "collapsed_sections": [],
      "include_colab_link": true
    },
    "kernelspec": {
      "name": "ir",
      "display_name": "R"
    }
  },
  "cells": [
    {
      "cell_type": "markdown",
      "metadata": {
        "id": "view-in-github",
        "colab_type": "text"
      },
      "source": [
        "<a href=\"https://colab.research.google.com/github/c-sung/API-HBase/blob/master/IR.ipynb\" target=\"_parent\"><img src=\"https://colab.research.google.com/assets/colab-badge.svg\" alt=\"Open In Colab\"/></a>"
      ]
    },
    {
      "cell_type": "code",
      "metadata": {
        "colab": {
          "base_uri": "https://localhost:8080/",
          "height": 35
        },
        "id": "3TnuEk39KjZF",
        "outputId": "1ad52589-3e69-4e19-c3a4-eb42dfa5c678"
      },
      "source": [
        "yeet = yeet\r\n",
        "yeet"
      ],
      "execution_count": 4,
      "outputs": [
        {
          "output_type": "display_data",
          "data": {
            "text/plain": [
              "[1] \"yeet\""
            ],
            "text/latex": "'yeet'",
            "text/markdown": "'yeet'",
            "text/html": [
              "'yeet'"
            ]
          },
          "metadata": {
            "tags": []
          }
        }
      ]
    },
    {
      "cell_type": "code",
      "metadata": {
        "colab": {
          "base_uri": "https://localhost:8080/",
          "height": 555
        },
        "id": "W4lSRMHCNJB9",
        "outputId": "e2fffaf8-df5d-40b6-df54-4d5bfd5f7c05"
      },
      "source": [
        "ls"
      ],
      "execution_count": 5,
      "outputs": [
        {
          "output_type": "display_data",
          "data": {
            "text/plain": [
              "function (name, pos = -1L, envir = as.environment(pos), all.names = FALSE, \n",
              "    pattern, sorted = TRUE) \n",
              "{\n",
              "    if (!missing(name)) {\n",
              "        pos <- tryCatch(name, error = function(e) e)\n",
              "        if (inherits(pos, \"error\")) {\n",
              "            name <- substitute(name)\n",
              "            if (!is.character(name)) \n",
              "                name <- deparse(name)\n",
              "            warning(gettextf(\"%s converted to character string\", \n",
              "                sQuote(name)), domain = NA)\n",
              "            pos <- name\n",
              "        }\n",
              "    }\n",
              "    all.names <- .Internal(ls(envir, all.names, sorted))\n",
              "    if (!missing(pattern)) {\n",
              "        if ((ll <- length(grep(\"[\", pattern, fixed = TRUE))) && \n",
              "            ll != length(grep(\"]\", pattern, fixed = TRUE))) {\n",
              "            if (pattern == \"[\") {\n",
              "                pattern <- \"\\\\[\"\n",
              "                warning(\"replaced regular expression pattern '[' by  '\\\\\\\\['\")\n",
              "            }\n",
              "            else if (length(grep(\"[^\\\\\\\\]\\\\[<-\", pattern))) {\n",
              "                pattern <- sub(\"\\\\[<-\", \"\\\\\\\\\\\\[<-\", pattern)\n",
              "                warning(\"replaced '[<-' by '\\\\\\\\[<-' in regular expression pattern\")\n",
              "            }\n",
              "        }\n",
              "        grep(pattern, all.names, value = TRUE)\n",
              "    }\n",
              "    else all.names\n",
              "}\n",
              "<bytecode: 0x55a7a60747e8>\n",
              "<environment: namespace:base>"
            ],
            "text/latex": "\\begin{minted}{r}\nfunction (name, pos = -1L, envir = as.environment(pos), all.names = FALSE, \n    pattern, sorted = TRUE) \n\\{\n    if (!missing(name)) \\{\n        pos <- tryCatch(name, error = function(e) e)\n        if (inherits(pos, \"error\")) \\{\n            name <- substitute(name)\n            if (!is.character(name)) \n                name <- deparse(name)\n            warning(gettextf(\"\\%s converted to character string\", \n                sQuote(name)), domain = NA)\n            pos <- name\n        \\}\n    \\}\n    all.names <- .Internal(ls(envir, all.names, sorted))\n    if (!missing(pattern)) \\{\n        if ((ll <- length(grep(\"{[}\", pattern, fixed = TRUE))) \\&\\& \n            ll != length(grep(\"{]}\", pattern, fixed = TRUE))) \\{\n            if (pattern == \"{[}\") \\{\n                pattern <- \"\\textbackslash{}\\textbackslash{}{[}\"\n                warning(\"replaced regular expression pattern '{[}' by  '\\textbackslash{}\\textbackslash{}\\textbackslash{}\\textbackslash{}{[}'\")\n            \\}\n            else if (length(grep(\"{[}\\textasciicircum{}\\textbackslash{}\\textbackslash{}\\textbackslash{}\\textbackslash{}{]}\\textbackslash{}\\textbackslash{}{[}<-\", pattern))) \\{\n                pattern <- sub(\"\\textbackslash{}\\textbackslash{}{[}<-\", \"\\textbackslash{}\\textbackslash{}\\textbackslash{}\\textbackslash{}\\textbackslash{}\\textbackslash{}{[}<-\", pattern)\n                warning(\"replaced '{[}<-' by '\\textbackslash{}\\textbackslash{}\\textbackslash{}\\textbackslash{}{[}<-' in regular expression pattern\")\n            \\}\n        \\}\n        grep(pattern, all.names, value = TRUE)\n    \\}\n    else all.names\n\\}\n\\end{minted}",
            "text/markdown": "```r\nfunction (name, pos = -1L, envir = as.environment(pos), all.names = FALSE, \n    pattern, sorted = TRUE) \n{\n    if (!missing(name)) {\n        pos <- tryCatch(name, error = function(e) e)\n        if (inherits(pos, \"error\")) {\n            name <- substitute(name)\n            if (!is.character(name)) \n                name <- deparse(name)\n            warning(gettextf(\"%s converted to character string\", \n                sQuote(name)), domain = NA)\n            pos <- name\n        }\n    }\n    all.names <- .Internal(ls(envir, all.names, sorted))\n    if (!missing(pattern)) {\n        if ((ll <- length(grep(\"[\", pattern, fixed = TRUE))) && \n            ll != length(grep(\"]\", pattern, fixed = TRUE))) {\n            if (pattern == \"[\") {\n                pattern <- \"\\\\[\"\n                warning(\"replaced regular expression pattern '[' by  '\\\\\\\\['\")\n            }\n            else if (length(grep(\"[^\\\\\\\\]\\\\[<-\", pattern))) {\n                pattern <- sub(\"\\\\[<-\", \"\\\\\\\\\\\\[<-\", pattern)\n                warning(\"replaced '[<-' by '\\\\\\\\[<-' in regular expression pattern\")\n            }\n        }\n        grep(pattern, all.names, value = TRUE)\n    }\n    else all.names\n}\n```",
            "text/html": [
              "<pre class=language-r><code>function (name, pos = -1L, envir = as.environment(pos), all.names = FALSE, \n",
              "<span style=white-space:pre-wrap>    pattern, sorted = TRUE) </span>\n",
              "{\n",
              "<span style=white-space:pre-wrap>    if (!missing(name)) {</span>\n",
              "<span style=white-space:pre-wrap>        pos &lt;- tryCatch(name, error = function(e) e)</span>\n",
              "<span style=white-space:pre-wrap>        if (inherits(pos, \"error\")) {</span>\n",
              "<span style=white-space:pre-wrap>            name &lt;- substitute(name)</span>\n",
              "<span style=white-space:pre-wrap>            if (!is.character(name)) </span>\n",
              "<span style=white-space:pre-wrap>                name &lt;- deparse(name)</span>\n",
              "<span style=white-space:pre-wrap>            warning(gettextf(\"%s converted to character string\", </span>\n",
              "<span style=white-space:pre-wrap>                sQuote(name)), domain = NA)</span>\n",
              "<span style=white-space:pre-wrap>            pos &lt;- name</span>\n",
              "<span style=white-space:pre-wrap>        }</span>\n",
              "<span style=white-space:pre-wrap>    }</span>\n",
              "<span style=white-space:pre-wrap>    all.names &lt;- .Internal(ls(envir, all.names, sorted))</span>\n",
              "<span style=white-space:pre-wrap>    if (!missing(pattern)) {</span>\n",
              "<span style=white-space:pre-wrap>        if ((ll &lt;- length(grep(\"[\", pattern, fixed = TRUE))) &amp;&amp; </span>\n",
              "<span style=white-space:pre-wrap>            ll != length(grep(\"]\", pattern, fixed = TRUE))) {</span>\n",
              "<span style=white-space:pre-wrap>            if (pattern == \"[\") {</span>\n",
              "<span style=white-space:pre-wrap>                pattern &lt;- \"\\\\[\"</span>\n",
              "<span style=white-space:pre-wrap>                warning(\"replaced regular expression pattern '[' by  '\\\\\\\\['\")</span>\n",
              "<span style=white-space:pre-wrap>            }</span>\n",
              "<span style=white-space:pre-wrap>            else if (length(grep(\"[^\\\\\\\\]\\\\[&lt;-\", pattern))) {</span>\n",
              "<span style=white-space:pre-wrap>                pattern &lt;- sub(\"\\\\[&lt;-\", \"\\\\\\\\\\\\[&lt;-\", pattern)</span>\n",
              "<span style=white-space:pre-wrap>                warning(\"replaced '[&lt;-' by '\\\\\\\\[&lt;-' in regular expression pattern\")</span>\n",
              "<span style=white-space:pre-wrap>            }</span>\n",
              "<span style=white-space:pre-wrap>        }</span>\n",
              "<span style=white-space:pre-wrap>        grep(pattern, all.names, value = TRUE)</span>\n",
              "<span style=white-space:pre-wrap>    }</span>\n",
              "<span style=white-space:pre-wrap>    else all.names</span>\n",
              "}</code></pre>"
            ]
          },
          "metadata": {
            "tags": []
          }
        }
      ]
    }
  ]
}